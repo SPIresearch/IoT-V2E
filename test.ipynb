{
 "cells": [
  {
   "cell_type": "code",
   "execution_count": 1,
   "metadata": {},
   "outputs": [],
   "source": [
    "import SimpleITK as sitk\n",
    "itkimage = sitk.ReadImage('Case00.mhd')\n",
    "imgs = sitk.GetArrayFromImage(itkimage)"
   ]
  },
  {
   "cell_type": "code",
   "execution_count": 13,
   "metadata": {},
   "outputs": [
    {
     "data": {
      "text/plain": [
       "(47, 512, 512)"
      ]
     },
     "execution_count": 13,
     "metadata": {},
     "output_type": "execute_result"
    }
   ],
   "source": [
    "imgs.shape"
   ]
  },
  {
   "cell_type": "code",
   "execution_count": 11,
   "metadata": {},
   "outputs": [
    {
     "data": {
      "text/plain": [
       "0.0"
      ]
     },
     "execution_count": 11,
     "metadata": {},
     "output_type": "execute_result"
    }
   ],
   "source": [
    "from skimage.exposure import equalize_adapthist\n",
    "a = equalize_adapthist(imgs[2], clip_limit=0.05)\n",
    "a.min()"
   ]
  },
  {
   "cell_type": "code",
   "execution_count": 11,
   "metadata": {},
   "outputs": [
    {
     "name": "stdout",
     "output_type": "stream",
     "text": [
      "(47, 256, 256)\n",
      "15\n",
      "(16, 128, 128)\n"
     ]
    },
    {
     "data": {
      "text/plain": [
       "<matplotlib.image.AxesImage at 0x1f2b2786f40>"
      ]
     },
     "execution_count": 11,
     "metadata": {},
     "output_type": "execute_result"
    },
    {
     "data": {
      "image/png": "[encoded data removed]",
      "text/plain": [
       "<Figure size 288x288 with 1 Axes>"
      ]
     },
     "metadata": {
      "needs_background": "light"
     },
     "output_type": "display_data"
    },
    {
     "data": {
      "image/png": "[encoded data removed]",
      "text/plain": [
       "<Figure size 288x288 with 1 Axes>"
      ]
     },
     "metadata": {
      "needs_background": "light"
     },
     "output_type": "display_data"
    }
   ],
   "source": [
    "import matplotlib.pyplot as plt\n",
    "import numpy as np\n",
    "class Normalize:\n",
    "    def __init__(self):\n",
    "        pass\n",
    "\n",
    "    def __call__(self, img):\n",
    "        \n",
    "        return (img - img.min()) / (img.max() - img.min())\n",
    "    \n",
    "    def __repr__(self):\n",
    "        return self.__class__.__name__\n",
    "\n",
    "class Standardize:\n",
    "    \"\"\"\n",
    "    Apply Z-score normalization to a given input tensor, i.e. re-scaling the values to be 0-mean and 1-std.\n",
    "    \"\"\"\n",
    "    def __init__(self, eps=1e-10, **kwargs):\n",
    "        self.eps = eps\n",
    "    def __call__(self, img):\n",
    "        mean = np.mean(img)\n",
    "        std = np.std(img)\n",
    "        img = (img - mean) / np.clip(std, a_min=self.eps, a_max=None)\n",
    "        return img\n",
    "    def __repr__(self):\n",
    "        return self.__class__.__name__\n",
    "import random\n",
    "from skimage.transform import resize\n",
    "class RandomResize:\n",
    "    def __init__(self, scale = 1.3, p=0.99 ):\n",
    "        self.size = scale\n",
    "        self.p = p\n",
    "\n",
    "    def __call__(self, img):\n",
    "        if random.random() < self.p:\n",
    "            depth, height, width  = img.shape[-3:]\n",
    "            img = resize(img, (depth*self.size, height*self.size, width*self.size), preserve_range=True)\n",
    "        return img\n",
    "    def __repr__(self):\n",
    "        return self.__class__.__name__ + '(scale={})'.format(self.scale)\n",
    "class CenterCrop:\n",
    "    def __init__(self, size=(16, 128, 128)):\n",
    "        self.size = size\n",
    "\n",
    "    def __call__(self, img, ):\n",
    "        depth, height, width  = img.shape\n",
    "        if depth<self.size[0]:\n",
    "            img = np.pad(img, (self.size[0]-depth, 0), mode='reflect')\n",
    "          \n",
    "            sz = 0\n",
    "        else:\n",
    "            sz = (depth - self.size[0] - 1) // 2\n",
    "\n",
    "        sx = (height - self.size[1] - 1) // 2\n",
    "        sy = (width - self.size[2] - 1) // 2\n",
    "        img = img[sz:sz + self.size[0], sx:sx + self.size[1], sy:sy + self.size[2]]\n",
    "        print(sz)\n",
    "        return img\n",
    "    \n",
    "    def __repr__(self):\n",
    "        return self.__class__.__name__ + '(size={}, {}, {})'.format(self.size[0], self.size[1], self.size[2])\n",
    "\n",
    "std = 0.7\n",
    "data = r'C:\\Users\\69068\\Downloads\\npy\\Case00_segmentation.npy'#'C:\\Users\\69068\\Downloads\\npy\\Case00.npy'\n",
    "data = np.load(data)\n",
    "print(data.shape)\n",
    "plt.matshow(data[15])\n",
    "data = CenterCrop()(data)\n",
    "print(data.shape)\n",
    "plt.matshow(data[0])"
   ]
  },
  {
   "cell_type": "code",
   "execution_count": 52,
   "metadata": {},
   "outputs": [
    {
     "name": "stdout",
     "output_type": "stream",
     "text": [
      "(24, 256, 256) (24, 256, 256)\n",
      "478034.0 16251.0\n",
      "3\n",
      "3\n",
      "0.14817461959476858\n"
     ]
    }
   ],
   "source": [
    "import numpy as np\n",
    "data = np.load(r'q\\tensor([0]).npz')\n",
    "pred = data['pred'][0,0].astype(float)\n",
    "y = data['y'][0,0]\n",
    "print(pred.shape, y.shape)\n",
    "print(pred.sum(), y.sum())\n",
    "pred = CenterCrop()(pred)\n",
    "y = CenterCrop()(y)\n",
    "import matplotlib.pyplot as plt\n",
    "# plt.subplot(211)\n",
    "# plt.matshow(pred[10])\n",
    "# plt.subplot(221)\n",
    "def dice_coef_np(input, target, eps=1e-7):\n",
    "    input = np.ravel(input)\n",
    "    target = np.ravel(target)\n",
    "    intersection = (input * target).sum()\n",
    "\n",
    "    return (2. * intersection) / (input.sum() + target.sum() + eps)\n",
    "print(dice_coef_np(pred, y ))\n",
    "# plt.matshow(y[10])\n",
    "# plt.matshow(pred[10])"
   ]
  },
  {
   "cell_type": "code",
   "execution_count": 18,
   "metadata": {},
   "outputs": [],
   "source": [
    "import os\n",
    "fileList =  os.listdir(r'C:\\Users\\69068\\Downloads\\npy')\n",
    "fileList = sorted((x for x in fileList if '.npy' in x))\n",
    "imgs= []\n",
    "masks = []\n",
    "for filename in fileList:\n",
    "    if 'segm' in filename.lower():\n",
    "        masks.append(filename)\n",
    "    else:\n",
    "        imgs.append(filename)\n"
   ]
  },
  {
   "cell_type": "code",
   "execution_count": 1,
   "metadata": {},
   "outputs": [],
   "source": [
    "import pandas as pd\n",
    "a =   pd.read_csv('dataset\\prostate\\PROMISE12.csv')['t2w']"
   ]
  },
  {
   "cell_type": "code",
   "execution_count": 7,
   "metadata": {},
   "outputs": [
    {
     "data": {
      "text/plain": [
       "2"
      ]
     },
     "execution_count": 7,
     "metadata": {},
     "output_type": "execute_result"
    }
   ],
   "source": [
    "import random\n",
    "random.randint(0,3)"
   ]
  },
  {
   "cell_type": "code",
   "execution_count": 19,
   "metadata": {},
   "outputs": [
    {
     "name": "stdout",
     "output_type": "stream",
     "text": [
      "(47, 223, 243)\n"
     ]
    }
   ],
   "source": [
    "import numpy as np\n",
    "\n",
    "\n",
    "def random_crop_to_labels(img_numpy, label):\n",
    "    \"\"\"\n",
    "    Random center crop near the label area\n",
    "    \"\"\"\n",
    "    target_indexs = np.where(label > 0)\n",
    "    [img_d, img_h, img_w] = img_numpy.shape\n",
    "    [max_D, max_H, max_W] = np.max(np.array(target_indexs), axis=1)\n",
    "    [min_D, min_H, min_W] = np.min(np.array(target_indexs), axis=1)\n",
    "    [target_depth, target_height, target_width] = np.array([max_D, max_H, max_W]) - np.array([min_D, min_H, min_W])\n",
    "    Z_min = int((min_D - target_depth * 1.0 / 2) * np.random.sample())\n",
    "    Y_min = int((min_H - target_height * 1.0 / 2) * np.random.sample())\n",
    "    X_min = int((min_W - target_width * 1.0 / 2) * np.random.sample())\n",
    "\n",
    "    Z_max = int(img_d - ((img_d - (max_D + target_depth * 1.0 / 2)) * np.random.sample()))\n",
    "    Y_max = int(img_h - ((img_h - (max_H + target_height * 1.0 / 2)) * np.random.sample()))\n",
    "    X_max = int(img_w - ((img_w - (max_W + target_width * 1.0 / 2)) * np.random.sample()))\n",
    "\n",
    "    Z_min = int(np.max([0, Z_min]))\n",
    "    Y_min = int(np.max([0, Y_min]))\n",
    "    X_min = int(np.max([0, X_min]))\n",
    "\n",
    "    Z_max = int(np.min([img_d, Z_max]))\n",
    "    Y_max = int(np.min([img_h, Y_max]))\n",
    "    X_max = int(np.min([img_w, X_max]))\n",
    "\n",
    "    return img_numpy[Z_min: Z_max, Y_min: Y_max, X_min: X_max], label\n",
    "\n",
    "class RandomCropToLabels(object):\n",
    "\n",
    "    def __call__(self, img_numpy, label):\n",
    "        return random_crop_to_labels(img_numpy, label)\n",
    "\n",
    "img = np.load('Case00.npy')\n",
    "label = np.load('Case00_segmentation.npy')\n",
    "i, l = RandomCropToLabels()(img, label)\n",
    "print(i.shape)"
   ]
  },
  {
   "cell_type": "code",
   "execution_count": 135,
   "metadata": {},
   "outputs": [
    {
     "name": "stdout",
     "output_type": "stream",
     "text": [
      "f:   tensor([[0.5030, 0.9735, 0.2667, 0.2745, 0.7932, 0.6705, 0.4043, 0.8860]],\n",
      "       requires_grad=True)\n",
      "logit:   tensor([[ 0.4965,  0.0016, -0.0543,  0.7538]], grad_fn=<AddmmBackward0>)\n",
      "p:   tensor([[0.2874, 0.1752, 0.1657, 0.3717]], grad_fn=<SoftmaxBackward0>)\n"
     ]
    }
   ],
   "source": [
    "import torch\n",
    "from torch import long, nn\n",
    "from torch.nn import functional as F\n",
    "f = torch.rand((1,8),requires_grad=True)\n",
    "y = torch.tensor([0],dtype=long)\n",
    "cls = nn.Linear(8,4)\n",
    "logit = cls(f)\n",
    "p = F.softmax(logit, dim=-1)\n",
    "loss = F.nll_loss(F.log_softmax(logit, dim=-1),y)\n",
    "print('f:  ', f)\n",
    "print('logit:  ', logit)\n",
    "print('p:  ', p)"
   ]
  },
  {
   "cell_type": "code",
   "execution_count": 136,
   "metadata": {},
   "outputs": [
    {
     "name": "stdout",
     "output_type": "stream",
     "text": [
      "tensor([[-0.7126,  0.1752,  0.1657,  0.3717]])\n"
     ]
    }
   ],
   "source": [
    "dl = torch.autograd.grad(loss,logit,retain_graph=True)[0]\n",
    "print(dl)"
   ]
  },
  {
   "cell_type": "code",
   "execution_count": 137,
   "metadata": {},
   "outputs": [
    {
     "name": "stdout",
     "output_type": "stream",
     "text": [
      "tensor([[ 0.1781, -0.0415, -0.0221,  0.0287, -0.0780,  0.1257, -0.2017,  0.2374]])\n"
     ]
    }
   ],
   "source": [
    "df = torch.autograd.grad(loss,f,retain_graph=True)[0]\n",
    "print(df)"
   ]
  },
  {
   "cell_type": "code",
   "execution_count": 141,
   "metadata": {},
   "outputs": [
    {
     "data": {
      "text/plain": [
       "torch.Size([4, 8])"
      ]
     },
     "execution_count": 141,
     "metadata": {},
     "output_type": "execute_result"
    }
   ],
   "source": [
    "w = cls.weight\n",
    "w.shape"
   ]
  },
  {
   "cell_type": "code",
   "execution_count": 143,
   "metadata": {},
   "outputs": [
    {
     "data": {
      "text/plain": [
       "tensor([[ 0.1781, -0.0415, -0.0221,  0.0287, -0.0780,  0.1257, -0.2017,  0.2374]],\n",
       "       grad_fn=<MmBackward0>)"
      ]
     },
     "execution_count": 143,
     "metadata": {},
     "output_type": "execute_result"
    }
   ],
   "source": [
    "dl@w"
   ]
  },
  {
   "cell_type": "code",
   "execution_count": 162,
   "metadata": {},
   "outputs": [
    {
     "name": "stdout",
     "output_type": "stream",
     "text": [
      "tensor([0.7234]) tensor([0.9809])\n"
     ]
    }
   ],
   "source": [
    "import torch\n",
    "a1 = torch.rand(1,4)\n",
    "a2 = torch.rand(1,4)\n",
    "w = torch.rand(4,8)\n",
    "cos1 = torch.cosine_similarity(a1, a2)\n",
    "cos2 = torch.cosine_similarity(a1@w, a2@w)\n",
    "print(cos1, cos2)"
   ]
  },
  {
   "cell_type": "code",
   "execution_count": 20,
   "metadata": {},
   "outputs": [
    {
     "name": "stdout",
     "output_type": "stream",
     "text": [
      "[0. 1.]\n"
     ]
    },
    {
     "data": {
      "text/plain": [
       "<matplotlib.image.AxesImage at 0x1dac71861f0>"
      ]
     },
     "execution_count": 20,
     "metadata": {},
     "output_type": "execute_result"
    },
    {
     "data": {
      "image/png": "[encoded data removed]",
      "text/plain": [
       "<Figure size 288x288 with 1 Axes>"
      ]
     },
     "metadata": {
      "needs_background": "light"
     },
     "output_type": "display_data"
    },
    {
     "data": {
      "image/png": "[encoded data removed]",
      "text/plain": [
       "<Figure size 288x288 with 1 Axes>"
      ]
     },
     "metadata": {
      "needs_background": "light"
     },
     "output_type": "display_data"
    },
    {
     "data": {
      "image/png": "[encoded data removed]",
      "text/plain": [
       "<Figure size 288x288 with 1 Axes>"
      ]
     },
     "metadata": {
      "needs_background": "light"
     },
     "output_type": "display_data"
    }
   ],
   "source": [
    "import nibabel as nib\n",
    "from dataset.prostate import UCL, Promise12, UCLm\n",
    "import dataset.transforms as T\n",
    "import dataset.transformsm as Tm\n",
    "import numpy as np\n",
    "\n",
    "train_transform = Tm.Compose([\n",
    "    Tm.RandomZoom(),\n",
    "    Tm.RandomCrop((16,96,96)),\n",
    "    Tm.RandomFlip(),\n",
    "    Tm.RandomRotate(),\n",
    "    Tm.RandomRotate90(),\n",
    "    Tm.Normalize(),\n",
    "    Tm.Standardize(),\n",
    "    Tm.AdditiveGaussianNoise()\n",
    "])\n",
    "m1 = r'D:\\ucl_dataset\\t2w\\Patient001061633_study_0.nii.gz'\n",
    "m2 = r'D:\\ucl_dataset\\adc\\Patient001061633_study_0_adc-0.nii.gz'\n",
    "y = r'D:\\ucl_dataset\\prostate_mask\\Patient001061633_study_0.nii.gz'\n",
    "\n",
    "t2w = nib.load(m1).get_fdata().transpose(2,0,1)\n",
    "adc = nib.load(m2).get_fdata().transpose(2,0,1)\n",
    "y = nib.load(y).get_fdata().transpose(2,0,1)\n",
    "print(np.unique(y))\n",
    "t2w, adc, y = train_transform(t2w, adc, y)\n",
    "import matplotlib.pyplot as plt\n",
    "plt.matshow(t2w[8])\n",
    "plt.matshow(adc[8])\n",
    "plt.matshow(y[8])"
   ]
  },
  {
   "cell_type": "code",
   "execution_count": 17,
   "metadata": {},
   "outputs": [
    {
     "data": {
      "text/plain": [
       "array([[[0., 0., 0., ..., 0., 0., 0.],\n",
       "        [0., 0., 0., ..., 0., 0., 0.],\n",
       "        [0., 0., 0., ..., 0., 0., 0.],\n",
       "        ...,\n",
       "        [0., 0., 0., ..., 1., 1., 1.],\n",
       "        [0., 0., 0., ..., 1., 1., 1.],\n",
       "        [0., 0., 0., ..., 1., 1., 1.]],\n",
       "\n",
       "       [[0., 0., 0., ..., 0., 0., 0.],\n",
       "        [0., 0., 0., ..., 0., 0., 0.],\n",
       "        [0., 0., 0., ..., 0., 0., 0.],\n",
       "        ...,\n",
       "        [0., 0., 0., ..., 1., 1., 1.],\n",
       "        [0., 0., 0., ..., 1., 1., 1.],\n",
       "        [0., 0., 0., ..., 1., 1., 1.]],\n",
       "\n",
       "       [[0., 0., 0., ..., 0., 0., 0.],\n",
       "        [0., 0., 0., ..., 0., 0., 0.],\n",
       "        [0., 0., 0., ..., 0., 0., 0.],\n",
       "        ...,\n",
       "        [0., 0., 0., ..., 1., 1., 1.],\n",
       "        [0., 0., 0., ..., 1., 1., 1.],\n",
       "        [0., 0., 0., ..., 1., 1., 1.]],\n",
       "\n",
       "       ...,\n",
       "\n",
       "       [[0., 0., 0., ..., 0., 0., 0.],\n",
       "        [0., 0., 0., ..., 0., 0., 0.],\n",
       "        [0., 0., 0., ..., 0., 0., 0.],\n",
       "        ...,\n",
       "        [0., 0., 0., ..., 1., 1., 1.],\n",
       "        [0., 0., 0., ..., 1., 1., 1.],\n",
       "        [0., 0., 0., ..., 1., 1., 1.]],\n",
       "\n",
       "       [[0., 0., 0., ..., 0., 0., 0.],\n",
       "        [0., 0., 0., ..., 0., 0., 0.],\n",
       "        [0., 0., 0., ..., 0., 0., 0.],\n",
       "        ...,\n",
       "        [0., 0., 0., ..., 1., 1., 1.],\n",
       "        [0., 0., 0., ..., 1., 1., 1.],\n",
       "        [0., 0., 0., ..., 1., 1., 1.]],\n",
       "\n",
       "       [[0., 0., 0., ..., 0., 0., 0.],\n",
       "        [0., 0., 0., ..., 0., 0., 0.],\n",
       "        [0., 0., 0., ..., 0., 0., 0.],\n",
       "        ...,\n",
       "        [0., 0., 0., ..., 1., 1., 1.],\n",
       "        [0., 0., 0., ..., 1., 1., 1.],\n",
       "        [0., 0., 0., ..., 1., 1., 1.]]])"
      ]
     },
     "execution_count": 17,
     "metadata": {},
     "output_type": "execute_result"
    }
   ],
   "source": [
    "lbl = y\n",
    "lbl"
   ]
  },
  {
   "cell_type": "code",
   "execution_count": 19,
   "metadata": {},
   "outputs": [
    {
     "name": "stderr",
     "output_type": "stream",
     "text": [
      "C:\\Users\\69068\\AppData\\Local\\Temp\\ipykernel_12028\\1204712828.py:15: DeprecationWarning: Please use `affine_transform` from the `scipy.ndimage` namespace, the `scipy.ndimage.interpolation` namespace is deprecated.\n",
      "  return ndimage.interpolation.affine_transform(img_numpy, zoom_matrix)\n"
     ]
    },
    {
     "data": {
      "text/plain": [
       "array([[[-7.89962703e-71,  6.52130213e-70, -7.39072491e-69, ...,\n",
       "          0.00000000e+00,  0.00000000e+00,  0.00000000e+00],\n",
       "        [ 3.10848614e-69,  4.32935863e-55, -3.67361721e-54, ...,\n",
       "          0.00000000e+00,  0.00000000e+00,  0.00000000e+00],\n",
       "        [ 1.34473043e-68, -3.67361721e-54,  3.11719693e-53, ...,\n",
       "          0.00000000e+00,  0.00000000e+00,  0.00000000e+00],\n",
       "        ...,\n",
       "        [ 0.00000000e+00,  0.00000000e+00,  0.00000000e+00, ...,\n",
       "          0.00000000e+00,  0.00000000e+00,  0.00000000e+00],\n",
       "        [ 0.00000000e+00,  0.00000000e+00,  0.00000000e+00, ...,\n",
       "          0.00000000e+00,  0.00000000e+00,  0.00000000e+00],\n",
       "        [ 0.00000000e+00,  0.00000000e+00,  0.00000000e+00, ...,\n",
       "          0.00000000e+00,  0.00000000e+00,  0.00000000e+00]],\n",
       "\n",
       "       [[ 4.21998028e-72, -6.59723681e-72,  6.90131418e-70, ...,\n",
       "          0.00000000e+00,  0.00000000e+00,  0.00000000e+00],\n",
       "        [ 7.62653091e-70, -2.45841668e-56,  2.08605537e-55, ...,\n",
       "          0.00000000e+00,  0.00000000e+00,  0.00000000e+00],\n",
       "        [ 5.77467375e-69,  2.08605537e-55, -1.77009335e-54, ...,\n",
       "          0.00000000e+00,  0.00000000e+00,  0.00000000e+00],\n",
       "        ...,\n",
       "        [ 0.00000000e+00,  0.00000000e+00,  0.00000000e+00, ...,\n",
       "          0.00000000e+00,  0.00000000e+00,  0.00000000e+00],\n",
       "        [ 0.00000000e+00,  0.00000000e+00,  0.00000000e+00, ...,\n",
       "          0.00000000e+00,  0.00000000e+00,  0.00000000e+00],\n",
       "        [ 0.00000000e+00,  0.00000000e+00,  0.00000000e+00, ...,\n",
       "          0.00000000e+00,  0.00000000e+00,  0.00000000e+00]],\n",
       "\n",
       "       [[-4.27741622e-72, -6.15208255e-71,  4.95680240e-70, ...,\n",
       "          0.00000000e+00,  0.00000000e+00,  0.00000000e+00],\n",
       "        [-1.12858066e-71,  5.38315684e-57, -4.56780307e-56, ...,\n",
       "          0.00000000e+00,  0.00000000e+00,  0.00000000e+00],\n",
       "        [-3.77980197e-70, -4.56780307e-56,  3.87594594e-55, ...,\n",
       "          0.00000000e+00,  0.00000000e+00,  0.00000000e+00],\n",
       "        ...,\n",
       "        [ 0.00000000e+00,  0.00000000e+00,  0.00000000e+00, ...,\n",
       "          0.00000000e+00,  0.00000000e+00,  0.00000000e+00],\n",
       "        [ 0.00000000e+00,  0.00000000e+00,  0.00000000e+00, ...,\n",
       "          0.00000000e+00,  0.00000000e+00,  0.00000000e+00],\n",
       "        [ 0.00000000e+00,  0.00000000e+00,  0.00000000e+00, ...,\n",
       "          0.00000000e+00,  0.00000000e+00,  0.00000000e+00]],\n",
       "\n",
       "       ...,\n",
       "\n",
       "       [[-2.70916010e-70,  9.05624136e-70, -4.35136336e-69, ...,\n",
       "          0.00000000e+00,  0.00000000e+00,  0.00000000e+00],\n",
       "        [-5.13211031e-70,  2.95503130e-55, -2.50745082e-54, ...,\n",
       "          0.00000000e+00,  0.00000000e+00,  0.00000000e+00],\n",
       "        [-2.78110077e-69, -2.50745082e-54,  2.12766262e-53, ...,\n",
       "          0.00000000e+00,  0.00000000e+00,  0.00000000e+00],\n",
       "        ...,\n",
       "        [ 0.00000000e+00,  0.00000000e+00,  0.00000000e+00, ...,\n",
       "          0.00000000e+00,  0.00000000e+00,  0.00000000e+00],\n",
       "        [ 0.00000000e+00,  0.00000000e+00,  0.00000000e+00, ...,\n",
       "          0.00000000e+00,  0.00000000e+00,  0.00000000e+00],\n",
       "        [ 0.00000000e+00,  0.00000000e+00,  0.00000000e+00, ...,\n",
       "          0.00000000e+00,  0.00000000e+00,  0.00000000e+00]],\n",
       "\n",
       "       [[ 0.00000000e+00,  0.00000000e+00,  0.00000000e+00, ...,\n",
       "          0.00000000e+00,  0.00000000e+00,  0.00000000e+00],\n",
       "        [ 0.00000000e+00,  0.00000000e+00,  0.00000000e+00, ...,\n",
       "          0.00000000e+00,  0.00000000e+00,  0.00000000e+00],\n",
       "        [ 0.00000000e+00,  0.00000000e+00,  0.00000000e+00, ...,\n",
       "          0.00000000e+00,  0.00000000e+00,  0.00000000e+00],\n",
       "        ...,\n",
       "        [ 0.00000000e+00,  0.00000000e+00,  0.00000000e+00, ...,\n",
       "          0.00000000e+00,  0.00000000e+00,  0.00000000e+00],\n",
       "        [ 0.00000000e+00,  0.00000000e+00,  0.00000000e+00, ...,\n",
       "          0.00000000e+00,  0.00000000e+00,  0.00000000e+00],\n",
       "        [ 0.00000000e+00,  0.00000000e+00,  0.00000000e+00, ...,\n",
       "          0.00000000e+00,  0.00000000e+00,  0.00000000e+00]],\n",
       "\n",
       "       [[ 0.00000000e+00,  0.00000000e+00,  0.00000000e+00, ...,\n",
       "          0.00000000e+00,  0.00000000e+00,  0.00000000e+00],\n",
       "        [ 0.00000000e+00,  0.00000000e+00,  0.00000000e+00, ...,\n",
       "          0.00000000e+00,  0.00000000e+00,  0.00000000e+00],\n",
       "        [ 0.00000000e+00,  0.00000000e+00,  0.00000000e+00, ...,\n",
       "          0.00000000e+00,  0.00000000e+00,  0.00000000e+00],\n",
       "        ...,\n",
       "        [ 0.00000000e+00,  0.00000000e+00,  0.00000000e+00, ...,\n",
       "          0.00000000e+00,  0.00000000e+00,  0.00000000e+00],\n",
       "        [ 0.00000000e+00,  0.00000000e+00,  0.00000000e+00, ...,\n",
       "          0.00000000e+00,  0.00000000e+00,  0.00000000e+00],\n",
       "        [ 0.00000000e+00,  0.00000000e+00,  0.00000000e+00, ...,\n",
       "          0.00000000e+00,  0.00000000e+00,  0.00000000e+00]]])"
      ]
     },
     "execution_count": 19,
     "metadata": {},
     "output_type": "execute_result"
    }
   ],
   "source": [
    "import numpy as np\n",
    "import scipy.ndimage as ndimage\n",
    "def random_zoom(img_numpy, min_percentage=0.8, max_percentage=1.1):\n",
    "    \"\"\"\n",
    "    :param img_numpy: \n",
    "    :param min_percentage: \n",
    "    :param max_percentage: \n",
    "    :return: zoom in/out aigmented img\n",
    "    \"\"\"\n",
    "    z = np.random.sample() * (max_percentage - min_percentage) + min_percentage\n",
    "    zoom_matrix = np.array([[z, 0, 0, 0],\n",
    "                            [0, z, 0, 0],\n",
    "                            [0, 0, z, 0],\n",
    "                            [0, 0, 0, 1]])\n",
    "    return ndimage.interpolation.affine_transform(img_numpy, zoom_matrix)\n",
    "random_zoom(lbl)"
   ]
  },
  {
   "cell_type": "code",
   "execution_count": 2,
   "metadata": {},
   "outputs": [],
   "source": [
    "from model.unet3d import UNet3D\n",
    "model = UNet3D(1,1)"
   ]
  },
  {
   "cell_type": "code",
   "execution_count": 3,
   "metadata": {},
   "outputs": [
    {
     "data": {
      "text/plain": [
       "UNet3D(\n",
       "  (encoders): ModuleList(\n",
       "    (0): Encoder(\n",
       "      (dropout): Dropout3d(p=0.5, inplace=False)\n",
       "      (basic_module): DoubleConv(\n",
       "        (SingleConv1): SingleConv(\n",
       "          (groupnorm): GroupNorm(1, 1, eps=1e-05, affine=True)\n",
       "          (conv): Conv3d(1, 32, kernel_size=(3, 3, 3), stride=(1, 1, 1), padding=(1, 1, 1), bias=False)\n",
       "          (ReLU): ReLU(inplace=True)\n",
       "        )\n",
       "        (SingleConv2): SingleConv(\n",
       "          (groupnorm): GroupNorm(8, 32, eps=1e-05, affine=True)\n",
       "          (conv): Conv3d(32, 64, kernel_size=(3, 3, 3), stride=(1, 1, 1), padding=(1, 1, 1), bias=False)\n",
       "          (ReLU): ReLU(inplace=True)\n",
       "        )\n",
       "      )\n",
       "    )\n",
       "    (1): Encoder(\n",
       "      (pooling): MaxPool3d(kernel_size=2, stride=2, padding=0, dilation=1, ceil_mode=False)\n",
       "      (dropout): Dropout3d(p=0.5, inplace=False)\n",
       "      (basic_module): DoubleConv(\n",
       "        (SingleConv1): SingleConv(\n",
       "          (groupnorm): GroupNorm(8, 64, eps=1e-05, affine=True)\n",
       "          (conv): Conv3d(64, 64, kernel_size=(3, 3, 3), stride=(1, 1, 1), padding=(1, 1, 1), bias=False)\n",
       "          (ReLU): ReLU(inplace=True)\n",
       "        )\n",
       "        (SingleConv2): SingleConv(\n",
       "          (groupnorm): GroupNorm(8, 64, eps=1e-05, affine=True)\n",
       "          (conv): Conv3d(64, 128, kernel_size=(3, 3, 3), stride=(1, 1, 1), padding=(1, 1, 1), bias=False)\n",
       "          (ReLU): ReLU(inplace=True)\n",
       "        )\n",
       "      )\n",
       "    )\n",
       "    (2): Encoder(\n",
       "      (pooling): MaxPool3d(kernel_size=2, stride=2, padding=0, dilation=1, ceil_mode=False)\n",
       "      (dropout): Dropout3d(p=0.5, inplace=False)\n",
       "      (basic_module): DoubleConv(\n",
       "        (SingleConv1): SingleConv(\n",
       "          (groupnorm): GroupNorm(8, 128, eps=1e-05, affine=True)\n",
       "          (conv): Conv3d(128, 128, kernel_size=(3, 3, 3), stride=(1, 1, 1), padding=(1, 1, 1), bias=False)\n",
       "          (ReLU): ReLU(inplace=True)\n",
       "        )\n",
       "        (SingleConv2): SingleConv(\n",
       "          (groupnorm): GroupNorm(8, 128, eps=1e-05, affine=True)\n",
       "          (conv): Conv3d(128, 256, kernel_size=(3, 3, 3), stride=(1, 1, 1), padding=(1, 1, 1), bias=False)\n",
       "          (ReLU): ReLU(inplace=True)\n",
       "        )\n",
       "      )\n",
       "    )\n",
       "    (3): Encoder(\n",
       "      (pooling): MaxPool3d(kernel_size=2, stride=2, padding=0, dilation=1, ceil_mode=False)\n",
       "      (dropout): Dropout3d(p=0.5, inplace=False)\n",
       "      (basic_module): DoubleConv(\n",
       "        (SingleConv1): SingleConv(\n",
       "          (groupnorm): GroupNorm(8, 256, eps=1e-05, affine=True)\n",
       "          (conv): Conv3d(256, 256, kernel_size=(3, 3, 3), stride=(1, 1, 1), padding=(1, 1, 1), bias=False)\n",
       "          (ReLU): ReLU(inplace=True)\n",
       "        )\n",
       "        (SingleConv2): SingleConv(\n",
       "          (groupnorm): GroupNorm(8, 256, eps=1e-05, affine=True)\n",
       "          (conv): Conv3d(256, 512, kernel_size=(3, 3, 3), stride=(1, 1, 1), padding=(1, 1, 1), bias=False)\n",
       "          (ReLU): ReLU(inplace=True)\n",
       "        )\n",
       "      )\n",
       "    )\n",
       "  )\n",
       "  (decoders): ModuleList(\n",
       "    (0): Decoder(\n",
       "      (upsampling): Upsampling()\n",
       "      (dropout): Dropout3d(p=0.5, inplace=False)\n",
       "      (basic_module): DoubleConv(\n",
       "        (SingleConv1): SingleConv(\n",
       "          (groupnorm): GroupNorm(8, 768, eps=1e-05, affine=True)\n",
       "          (conv): Conv3d(768, 256, kernel_size=(3, 3, 3), stride=(1, 1, 1), padding=(1, 1, 1), bias=False)\n",
       "          (ReLU): ReLU(inplace=True)\n",
       "        )\n",
       "        (SingleConv2): SingleConv(\n",
       "          (groupnorm): GroupNorm(8, 256, eps=1e-05, affine=True)\n",
       "          (conv): Conv3d(256, 256, kernel_size=(3, 3, 3), stride=(1, 1, 1), padding=(1, 1, 1), bias=False)\n",
       "          (ReLU): ReLU(inplace=True)\n",
       "        )\n",
       "      )\n",
       "    )\n",
       "    (1): Decoder(\n",
       "      (upsampling): Upsampling()\n",
       "      (dropout): Dropout3d(p=0.5, inplace=False)\n",
       "      (basic_module): DoubleConv(\n",
       "        (SingleConv1): SingleConv(\n",
       "          (groupnorm): GroupNorm(8, 384, eps=1e-05, affine=True)\n",
       "          (conv): Conv3d(384, 128, kernel_size=(3, 3, 3), stride=(1, 1, 1), padding=(1, 1, 1), bias=False)\n",
       "          (ReLU): ReLU(inplace=True)\n",
       "        )\n",
       "        (SingleConv2): SingleConv(\n",
       "          (groupnorm): GroupNorm(8, 128, eps=1e-05, affine=True)\n",
       "          (conv): Conv3d(128, 128, kernel_size=(3, 3, 3), stride=(1, 1, 1), padding=(1, 1, 1), bias=False)\n",
       "          (ReLU): ReLU(inplace=True)\n",
       "        )\n",
       "      )\n",
       "    )\n",
       "    (2): Decoder(\n",
       "      (upsampling): Upsampling()\n",
       "      (dropout): Dropout3d(p=0.5, inplace=False)\n",
       "      (basic_module): DoubleConv(\n",
       "        (SingleConv1): SingleConv(\n",
       "          (groupnorm): GroupNorm(8, 192, eps=1e-05, affine=True)\n",
       "          (conv): Conv3d(192, 64, kernel_size=(3, 3, 3), stride=(1, 1, 1), padding=(1, 1, 1), bias=False)\n",
       "          (ReLU): ReLU(inplace=True)\n",
       "        )\n",
       "        (SingleConv2): SingleConv(\n",
       "          (groupnorm): GroupNorm(8, 64, eps=1e-05, affine=True)\n",
       "          (conv): Conv3d(64, 64, kernel_size=(3, 3, 3), stride=(1, 1, 1), padding=(1, 1, 1), bias=False)\n",
       "          (ReLU): ReLU(inplace=True)\n",
       "        )\n",
       "      )\n",
       "    )\n",
       "  )\n",
       "  (final_conv): Conv3d(64, 1, kernel_size=(1, 1, 1), stride=(1, 1, 1))\n",
       "  (sigmoid_layer): Sigmoid()\n",
       ")"
      ]
     },
     "execution_count": 3,
     "metadata": {},
     "output_type": "execute_result"
    }
   ],
   "source": [
    "model"
   ]
  },
  {
   "cell_type": "code",
   "execution_count": 19,
   "metadata": {},
   "outputs": [],
   "source": [
    "import torch\n",
    "import torch.nn.functional as F\n",
    "logits1 = torch.rand(8,2,16,200,200)\n",
    "logits2 = torch.rand(8,2,16,200,200)"
   ]
  },
  {
   "cell_type": "code",
   "execution_count": 25,
   "metadata": {},
   "outputs": [
    {
     "data": {
      "text/plain": [
       "tensor(0.0102)"
      ]
     },
     "execution_count": 25,
     "metadata": {},
     "output_type": "execute_result"
    }
   ],
   "source": [
    "probs1 =  F.softmax(logits1, dim=1)\n",
    "probs2=  F.softmax(logits2, dim=1)\n",
    "\n",
    "m = 0.5 * (probs1 + probs2)\n",
    "loss = 0.0\n",
    "loss += F.kl_div(F.log_softmax(logits1, dim=1), m, reduction=\"none\") \n",
    "loss += F.kl_div(F.log_softmax(logits2, dim=1), m, reduction=\"none\") \n",
    "loss.mean()"
   ]
  },
  {
   "cell_type": "code",
   "execution_count": 26,
   "metadata": {},
   "outputs": [
    {
     "data": {
      "text/plain": [
       "tensor(0.0102)"
      ]
     },
     "execution_count": 26,
     "metadata": {},
     "output_type": "execute_result"
    }
   ],
   "source": [
    "probs1 =  F.softmax(logits1, dim=1).permute(0,2,3,4,1).reshape(-1,2)\n",
    "probs2=  F.softmax(logits2, dim=1).permute(0,2,3,4,1).reshape(-1,2)\n",
    "\n",
    "m = 0.5 * (probs1 + probs2)\n",
    "loss = 0.0\n",
    "loss += F.kl_div(F.log_softmax(logits1.permute(0,2,3,4,1).reshape(-1,2), dim=1), m, reduction=\"none\") \n",
    "loss += F.kl_div(F.log_softmax(logits2.permute(0,2,3,4,1).reshape(-1,2), dim=1), m, reduction=\"none\") \n",
    "loss.mean()"
   ]
  },
  {
   "cell_type": "code",
   "execution_count": 62,
   "metadata": {},
   "outputs": [],
   "source": [
    "import torch\n",
    "import torch.nn as nn\n",
    "import torch.nn.functional as F\n",
    "logits1 = torch.rand(8,16)\n",
    "net = nn.Linear(16,2)\n",
    "with torch.no_grad():\n",
    "    out = net(logits1)"
   ]
  },
  {
   "cell_type": "code",
   "execution_count": 63,
   "metadata": {},
   "outputs": [
    {
     "data": {
      "text/plain": [
       "torch.Size([8, 1, 16, 200, 200])"
      ]
     },
     "execution_count": 63,
     "metadata": {},
     "output_type": "execute_result"
    }
   ],
   "source": [
    "logits1 = torch.rand(8,2,16,200,200)\n",
    "logits2 = torch.rand(8,2,16,200,200)\n",
    "(logits1*logits2).sum(dim=1,keepdim=True).shape"
   ]
  },
  {
   "cell_type": "code",
   "execution_count": 64,
   "metadata": {},
   "outputs": [],
   "source": [
    "def get_weight(input_):\n",
    "    with torch.no_grad():\n",
    "        entropy = -input_ * torch.log(input_ + 1e-5)\n",
    "        entropy = torch.sum(entropy, dim=1, keepdim=True)\n",
    "        weight = 1.0 + torch.exp(-entropy)\n",
    "        weight = weight / torch.sum(weight)\n",
    "    return weight"
   ]
  },
  {
   "cell_type": "code",
   "execution_count": 67,
   "metadata": {},
   "outputs": [],
   "source": [
    "l = torch.rand((8,2,16,200,200),requires_grad=True)\n",
    "w = get_weight(torch.softmax(l,dim=1))"
   ]
  },
  {
   "cell_type": "code",
   "execution_count": 68,
   "metadata": {},
   "outputs": [
    {
     "data": {
      "text/plain": [
       "tensor(1.0000)"
      ]
     },
     "execution_count": 68,
     "metadata": {},
     "output_type": "execute_result"
    }
   ],
   "source": [
    "w.sum()"
   ]
  }
 ],
 "metadata": {
  "kernelspec": {
   "display_name": "Python 3.9.12 ('base')",
   "language": "python",
   "name": "python3"
  },
  "language_info": {
   "codemirror_mode": {
    "name": "ipython",
    "version": 3
   },
   "file_extension": ".py",
   "mimetype": "text/x-python",
   "name": "python",
   "nbconvert_exporter": "python",
   "pygments_lexer": "ipython3",
   "version": "3.9.12"
  },
  "orig_nbformat": 4,
  "vscode": {
   "interpreter": {
    "hash": "34a1b920dd58fa56d143a78c779162c8f0436425b2fe505fc83a44875e3e1b2e"
   }
  }
 },
 "nbformat": 4,
 "nbformat_minor": 2
}
